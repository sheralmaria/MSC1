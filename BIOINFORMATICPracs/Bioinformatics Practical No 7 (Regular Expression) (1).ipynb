{
 "cells": [
  {
   "cell_type": "code",
   "execution_count": 1,
   "id": "5158d315",
   "metadata": {},
   "outputs": [
    {
     "name": "stdout",
     "output_type": "stream",
     "text": [
      "Enter sequence 1:A D L G A Y F A L C D R Y E Q\n",
      "Enter sequence 2:S D V G P R S C F C E R F Y Q\n",
      "Enter sequence 3:A D L G R T Q L R C D R Y Y Q\n",
      "Enter sequence 4:A D I G Q P H S L C E R F F Q\n",
      "ASAA -> {'S', 'A'}\n",
      "DDDD -> {'D'}\n",
      "LVLI -> {'L', 'V', 'I'}\n",
      "GGGG -> {'G'}\n",
      "APRQ -> X\n",
      "YRTP -> X\n",
      "FSQH -> X\n",
      "ACLS -> X\n",
      "LFRL -> {'F', 'R', 'L'}\n",
      "CCCC -> {'C'}\n",
      "DEDE -> {'D', 'E'}\n",
      "RRRR -> {'R'}\n",
      "YFYF -> {'Y', 'F'}\n",
      "EYYF -> {'Y', 'F', 'E'}\n",
      "QQQQ -> {'Q'}\n"
     ]
    }
   ],
   "source": [
    "s1=input(\"Enter sequence 1:\").split()\n",
    "s2=input(\"Enter sequence 2:\").split()\n",
    "s3=input(\"Enter sequence 3:\").split()\n",
    "s4=input(\"Enter sequence 4:\").split()\n",
    "seq1=list(s1)\n",
    "seq2=list(s2)\n",
    "seq3=list(s3)\n",
    "seq4=list(s4)\n",
    "for k in range(0,len(seq1)):\n",
    "    a=seq1[k]+seq2[k]+seq3[k]+seq4[k]\n",
    "    aa=set(a)\n",
    "    length=len(aa)\n",
    "    if len(aa)==1:\n",
    "        print(a,\"->\",aa)\n",
    "    elif len(aa)==2 or len(aa)==3:\n",
    "        print(a,\"->\",aa)\n",
    "    elif length==len(aa):\n",
    "        print(a,\"-> X\")\n",
    "    else:\n",
    "        print(\"Error\")\n",
    "        "
   ]
  },
  {
   "cell_type": "code",
   "execution_count": null,
   "id": "759d5361",
   "metadata": {},
   "outputs": [],
   "source": []
  }
 ],
 "metadata": {
  "kernelspec": {
   "display_name": "Python 3",
   "language": "python",
   "name": "python3"
  },
  "language_info": {
   "codemirror_mode": {
    "name": "ipython",
    "version": 3
   },
   "file_extension": ".py",
   "mimetype": "text/x-python",
   "name": "python",
   "nbconvert_exporter": "python",
   "pygments_lexer": "ipython3",
   "version": "3.8.8"
  }
 },
 "nbformat": 4,
 "nbformat_minor": 5
}
