{
 "cells": [
  {
   "cell_type": "code",
   "execution_count": 3,
   "id": "bbbb41bd",
   "metadata": {},
   "outputs": [
    {
     "name": "stdout",
     "output_type": "stream",
     "text": [
      "Enter the number of sequence: 4\n",
      "Enter all the sequences\n",
      "A C T G A T G\n",
      "A T C A G A A\n",
      "A T A A G C A \n",
      "A G T T A G C\n",
      "\tA \tC \tT \tG\n",
      "\n",
      "\t4\t0\t0\t0\n",
      "\n",
      "\t0\t1\t2\t1\n",
      "\n",
      "\t1\t1\t2\t0\n",
      "\n",
      "\t2\t0\t1\t1\n",
      "\n",
      "\t2\t0\t0\t2\n",
      "\n",
      "\t1\t1\t1\t1\n",
      "\n",
      "\t2\t1\t0\t1\n"
     ]
    }
   ],
   "source": [
    "def solve_fingerprint(seq_list, no_of_col):\n",
    "    seq_dict=dict()\n",
    "    for colnum in range(no_of_col):\n",
    "        counta,countc,countt,countg=0,0,0,0\n",
    "        for colseq in seq_list: \n",
    "            if colseq[colnum]=='A':\n",
    "                counta+=1\n",
    "            elif colseq[colnum]=='T':\n",
    "                countt+=1\n",
    "            elif colseq[colnum]=='C':\n",
    "                countc+=1\n",
    "            elif colseq[colnum]=='G':\n",
    "                countg+=1\n",
    "        seq_dict[colnum]=[counta,countc,countt,countg]\n",
    "    display_results(seq_dict)\n",
    "    \n",
    "def display_results(seq_dict):\n",
    "    print(\"\\tA \\tC \\tT \\tG\")\n",
    "    for key in seq_dict:\n",
    "        print(\"\\n\",*seq_dict[key],sep=\"\\t\")\n",
    "no_of_seq=int(input(\"Enter the number of sequence: \"))\n",
    "print(\"Enter all the sequences\")\n",
    "seq_list=[]\n",
    "for _ in range(no_of_seq):\n",
    "    seq_list.append(list(map(str, input(\"\").split())))\n",
    "solve_fingerprint(seq_list,len(seq_list[0])) "
   ]
  },
  {
   "cell_type": "code",
   "execution_count": null,
   "id": "546f2e1c",
   "metadata": {},
   "outputs": [],
   "source": []
  }
 ],
 "metadata": {
  "kernelspec": {
   "display_name": "Python 3",
   "language": "python",
   "name": "python3"
  },
  "language_info": {
   "codemirror_mode": {
    "name": "ipython",
    "version": 3
   },
   "file_extension": ".py",
   "mimetype": "text/x-python",
   "name": "python",
   "nbconvert_exporter": "python",
   "pygments_lexer": "ipython3",
   "version": "3.8.8"
  }
 },
 "nbformat": 4,
 "nbformat_minor": 5
}
