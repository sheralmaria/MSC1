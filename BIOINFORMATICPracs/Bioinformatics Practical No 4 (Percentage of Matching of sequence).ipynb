{
 "cells": [
  {
   "cell_type": "code",
   "execution_count": 1,
   "id": "7b875122",
   "metadata": {},
   "outputs": [
    {
     "name": "stdout",
     "output_type": "stream",
     "text": [
      "['A', 'S', 'C', 'S', 'N', 'R', 'C', 'K', 'C', 'P', 'R', 'D', '-']\n",
      "['A', 'D', 'C', 'N', 'S', 'R', '-', '-', 'L', 'C', 'R', 'P', 'M']\n",
      "Identity:  4\n",
      "similarity count:  1\n",
      "similarity count:  2\n",
      "similarity count:  3\n",
      "Similarity: 3\n",
      "Obtained match:  7\n",
      "Total length:  13\n",
      "Gap:  3\n",
      "Total:  10\n",
      "Percentage of match:  70.0\n"
     ]
    }
   ],
   "source": [
    "from operator import eq\n",
    "seq1 = \"ASCSNRCKCPRD-\"\n",
    "seq2 = \"ADCNSR--LCRPM\"\n",
    "seq1 = list(seq1)\n",
    "seq2 = list(seq2)\n",
    "print(seq1)\n",
    "print(seq2)\n",
    "a = sum(map(eq, seq1, seq2))\n",
    "identity = print(\"Identity: \", a)\n",
    "\n",
    "count = 0\n",
    "for i in range(len(seq1)):\n",
    "    if (seq1[i] == \"S\" and seq2[i] == \"N\" or seq1[i] == \"N\" and seq2[i] == \"S\" or seq1[i] == \"D\" and seq2[i] == \"P\"):\n",
    "        count += 1\n",
    "        print(\"similarity count: \", count) \n",
    "sim = print(\"Similarity:\", count)\n",
    "\n",
    "obt_match = a + count\n",
    "print(\"Obtained match: \", obt_match)\n",
    "\n",
    "if(len(seq1) == len(seq2) or len(seq1) > len(seq2)):\n",
    "    print(\"Total length: \", len(seq1))\n",
    "grt_seq = len(seq1)\n",
    "\n",
    "\n",
    "if(len(seq2) > len(seq1)):\n",
    "    print(\"Total length: \", len(seq2))\n",
    "grt_seq = len(seq2)\n",
    "\n",
    "cnt = 0\n",
    "for i in range(len(seq1)):\n",
    "    if seq1[i] == \"-\":\n",
    "        cnt += 1\n",
    "    elif(seq2[i] == \"-\"):\n",
    "        cnt += 1\n",
    "print(\"Gap: \", cnt)\n",
    "\n",
    "total = grt_seq - cnt\n",
    "print(\"Total: \", total)\n",
    "\n",
    "percent_match = (obt_match / total) * 100\n",
    "print(\"Percentage of match: \", percent_match)"
   ]
  },
  {
   "cell_type": "code",
   "execution_count": null,
   "id": "666c0b00",
   "metadata": {},
   "outputs": [],
   "source": []
  }
 ],
 "metadata": {
  "kernelspec": {
   "display_name": "Python 3",
   "language": "python",
   "name": "python3"
  },
  "language_info": {
   "codemirror_mode": {
    "name": "ipython",
    "version": 3
   },
   "file_extension": ".py",
   "mimetype": "text/x-python",
   "name": "python",
   "nbconvert_exporter": "python",
   "pygments_lexer": "ipython3",
   "version": "3.8.8"
  }
 },
 "nbformat": 4,
 "nbformat_minor": 5
}
