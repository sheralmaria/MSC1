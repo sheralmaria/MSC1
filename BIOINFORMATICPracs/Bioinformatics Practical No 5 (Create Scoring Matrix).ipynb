{
 "cells": [
  {
   "cell_type": "markdown",
   "id": "5e7b705a",
   "metadata": {},
   "source": [
    "# Creating Scoring Matrix"
   ]
  },
  {
   "cell_type": "code",
   "execution_count": 5,
   "id": "21806299",
   "metadata": {},
   "outputs": [
    {
     "name": "stdout",
     "output_type": "stream",
     "text": [
      "Enter sequence 1A T C G\n",
      "Length of Sequence 1: 4\n",
      "Enter sequence 2T C G\n",
      "Length of Sequence 2: 3\n",
      "Enter the entries rowwise:\n",
      "-8\n",
      "-5\n",
      "-2\n",
      "-1\n",
      "-6\n",
      "-3\n",
      "0\n",
      "-2\n",
      "4\n",
      "-1\n",
      "-2\n",
      "-4\n",
      "-2\n",
      "-1\n",
      "-3\n",
      "-5\n",
      "0\n",
      "-2\n",
      "-4\n",
      "-6\n",
      "-8 -5 -2 -1 \n",
      "-6 -3 0 -2 \n",
      "4 -1 -2 -4 \n",
      "-2 -1 -3 -5 \n",
      "0 -2 -4 -6 \n"
     ]
    }
   ],
   "source": [
    "a=input(\"Enter sequence 1\").split()\n",
    "print(\"Length of Sequence 1:\",len(a))\n",
    "b=input(\"Enter sequence 2\").split()\n",
    "print(\"Length of Sequence 2:\",len(b))\n",
    "matrix = []\n",
    "print(\"Enter the entries rowwise:\")\n",
    "for i in range(len(a)+1):          \n",
    "    a =[]\n",
    "    for j in range(len(b)+1):     \n",
    "         a.append(int(input()))\n",
    "    matrix.append(a)\n",
    "for i in range(len(a)+1):\n",
    "    for j in range(len(b)+1):\n",
    "        print(matrix[i][j], end = \" \")\n",
    "    print()"
   ]
  },
  {
   "cell_type": "code",
   "execution_count": null,
   "id": "99e2e528",
   "metadata": {},
   "outputs": [],
   "source": []
  }
 ],
 "metadata": {
  "kernelspec": {
   "display_name": "Python 3",
   "language": "python",
   "name": "python3"
  },
  "language_info": {
   "codemirror_mode": {
    "name": "ipython",
    "version": 3
   },
   "file_extension": ".py",
   "mimetype": "text/x-python",
   "name": "python",
   "nbconvert_exporter": "python",
   "pygments_lexer": "ipython3",
   "version": "3.8.8"
  }
 },
 "nbformat": 4,
 "nbformat_minor": 5
}
