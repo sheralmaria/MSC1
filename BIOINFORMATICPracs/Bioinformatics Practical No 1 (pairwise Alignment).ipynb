{
 "cells": [
  {
   "cell_type": "code",
   "execution_count": 1,
   "id": "077fd0aa",
   "metadata": {},
   "outputs": [
    {
     "name": "stdout",
     "output_type": "stream",
     "text": [
      "Enter the first sequence::A B B L F V C K I W R\n",
      "Enter the second sequence::A B B F V C K V L F K\n",
      "\n",
      "['A', ' ', 'B', ' ', 'B', ' ', 'L', ' ', 'F', ' ', 'V', ' ', 'C', ' ', 'K', ' ', 'I', ' ', 'W', ' ', 'R']\n",
      "['A', ' ', 'B', ' ', 'B', ' ', 'F', ' ', 'V', ' ', 'C', ' ', 'K', ' ', 'V', ' ', 'L', ' ', 'F', ' ', 'K']\n",
      "['1', '1', '1', '1', '1', '1', '0', '1', '0', '1', '0', '1', '0', '1', '0', '1', '0', '1', '0', '1', '0']\n",
      "13\n"
     ]
    }
   ],
   "source": [
    "se1=input(\"Enter the first sequence::\")\n",
    "se2=input(\"Enter the second sequence::\")\n",
    "seq1=list(se1)\n",
    "seq2=list(se2)\n",
    "score=[]\n",
    "def Pairwise_alignment(a,b):\n",
    "    gap(a,b)\n",
    "    print(a)\n",
    "    print(b)\n",
    "    value=0\n",
    "    length=len(a)\n",
    "    for i in range(0,length):\n",
    "        if(a[i]==b[i]):\n",
    "            score.append('1')\n",
    "            value=value+1\n",
    "        else:\n",
    "            score.append('0')\n",
    "    print(score)\n",
    "    print(value)\n",
    "def gap(a,b):\n",
    "    if(len(a)==len(b)):\n",
    "        print()\n",
    "    else:\n",
    "        k=int(input(\"enter the position to insert::\"))\n",
    "        if (len(a)<len(b)):\n",
    "            a.insert(k,'-')\n",
    "        else:\n",
    "            b.insert(k,'-')\n",
    "    return(a,b)\n",
    "Pairwise_alignment(seq1,seq2) \n"
   ]
  },
  {
   "cell_type": "code",
   "execution_count": null,
   "id": "422681ec",
   "metadata": {},
   "outputs": [],
   "source": []
  }
 ],
 "metadata": {
  "kernelspec": {
   "display_name": "Python 3",
   "language": "python",
   "name": "python3"
  },
  "language_info": {
   "codemirror_mode": {
    "name": "ipython",
    "version": 3
   },
   "file_extension": ".py",
   "mimetype": "text/x-python",
   "name": "python",
   "nbconvert_exporter": "python",
   "pygments_lexer": "ipython3",
   "version": "3.8.8"
  }
 },
 "nbformat": 4,
 "nbformat_minor": 5
}
