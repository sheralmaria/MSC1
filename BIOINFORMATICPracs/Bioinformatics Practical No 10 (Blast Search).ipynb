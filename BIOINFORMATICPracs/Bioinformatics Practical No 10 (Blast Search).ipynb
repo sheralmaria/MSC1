{
 "cells": [
  {
   "cell_type": "code",
   "execution_count": 3,
   "id": "b0693cdf",
   "metadata": {},
   "outputs": [
    {
     "name": "stdout",
     "output_type": "stream",
     "text": [
      "score of A is  415\n",
      "score of C is  201\n",
      "score of T is  406\n",
      "score of G is  136\n"
     ]
    }
   ],
   "source": [
    "file=open(\"genes.txt\",\"r\")\n",
    "r=file.read()\n",
    "size=len(r)\n",
    "A=0\n",
    "C=0\n",
    "T=0\n",
    "G=0\n",
    "for i in range(size):\n",
    "    if(r[i]=='A'):\n",
    "        A+=1\n",
    "    elif (r[i]=='C'):\n",
    "        C+=1\n",
    "    elif (r[i]=='T'):\n",
    "        T+=1\n",
    "    elif (r[i]=='G'):\n",
    "        G+=1\n",
    "print(\"score of A is \",A)\n",
    "print(\"score of C is \",C)\n",
    "print(\"score of T is \",T)\n",
    "print(\"score of G is \",G) \n"
   ]
  },
  {
   "cell_type": "code",
   "execution_count": null,
   "id": "f2ba07dc",
   "metadata": {},
   "outputs": [],
   "source": []
  }
 ],
 "metadata": {
  "kernelspec": {
   "display_name": "Python 3",
   "language": "python",
   "name": "python3"
  },
  "language_info": {
   "codemirror_mode": {
    "name": "ipython",
    "version": 3
   },
   "file_extension": ".py",
   "mimetype": "text/x-python",
   "name": "python",
   "nbconvert_exporter": "python",
   "pygments_lexer": "ipython3",
   "version": "3.8.8"
  }
 },
 "nbformat": 4,
 "nbformat_minor": 5
}
