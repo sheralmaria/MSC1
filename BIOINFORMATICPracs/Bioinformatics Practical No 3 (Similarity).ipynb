{
 "cells": [
  {
   "cell_type": "code",
   "execution_count": 18,
   "id": "b59ba0f6",
   "metadata": {},
   "outputs": [
    {
     "name": "stdout",
     "output_type": "stream",
     "text": [
      "Enter sequence 1A B B L F V K I W R\n",
      "Enter sequence 2A B B F V C K V L F K\n",
      "['A', 'B', 'B', 'L', 'F', 'V', 'K', 'I', 'W', 'R']\n",
      "['A', 'B', 'B', 'F', 'V', 'C', 'K', 'V', 'L', 'F', 'K']\n",
      "Similar value: 6\n",
      "60.0\n"
     ]
    }
   ],
   "source": [
    "seq1=input(\"Enter sequence 1\").split()\n",
    "seq2=input(\"Enter sequence 2\").split()\n",
    "print(seq1)\n",
    "print(seq2)\n",
    "a=len(seq1)\n",
    "s=0\n",
    "if len(seq1)==len(seq2) or len(seq1)<=len(seq2) or len(seq1)>=len(seq2):\n",
    "    for i in range (0,a):\n",
    "        if seq1[i]!=seq2[i]:\n",
    "            s+=1\n",
    "        else:\n",
    "            s+=0\n",
    "print(\"Similar value:\",s)\n",
    "similarity=s/len(seq1)*100\n",
    "print(similarity)\n",
    "            "
   ]
  },
  {
   "cell_type": "code",
   "execution_count": null,
   "id": "b193925d",
   "metadata": {},
   "outputs": [],
   "source": []
  }
 ],
 "metadata": {
  "kernelspec": {
   "display_name": "Python 3",
   "language": "python",
   "name": "python3"
  },
  "language_info": {
   "codemirror_mode": {
    "name": "ipython",
    "version": 3
   },
   "file_extension": ".py",
   "mimetype": "text/x-python",
   "name": "python",
   "nbconvert_exporter": "python",
   "pygments_lexer": "ipython3",
   "version": "3.8.8"
  }
 },
 "nbformat": 4,
 "nbformat_minor": 5
}
