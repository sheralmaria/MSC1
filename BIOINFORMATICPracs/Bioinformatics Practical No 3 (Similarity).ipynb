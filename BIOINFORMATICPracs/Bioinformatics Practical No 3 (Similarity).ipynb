{
 "cells": [
  {
   "cell_type": "code",
   "execution_count": 2,
   "id": "c35356c5",
   "metadata": {},
   "outputs": [
    {
     "name": "stdout",
     "output_type": "stream",
     "text": [
      "Enter the first sequence: A B B L F V C K I W R\n",
      "Enter the second sequence: A B B F V C K V L R K\n",
      "How many elements for similarity condition?4\n",
      "Enter an element: L\n",
      "How many elements is it similar to? 2\n",
      "What is it similar to? F\n",
      "What is it similar to? I\n",
      "Enter an element: R\n",
      "How many elements is it similar to? 2\n",
      "What is it similar to? W\n",
      "What is it similar to? K\n",
      "Enter an element: V\n",
      "How many elements is it similar to? 2\n",
      "What is it similar to? F\n",
      "What is it similar to? C\n",
      "Enter an element: K\n",
      "How many elements is it similar to? 2\n",
      "What is it similar to? V\n",
      "What is it similar to? C\n",
      "['A', ' ', 'B', ' ', 'B', ' ', 'L', ' ', 'F', ' ', 'V', ' ', 'C', ' ', 'K', ' ', 'I', ' ', 'W', ' ', 'R']\n",
      "['A', ' ', 'B', ' ', 'B', ' ', 'F', ' ', 'V', ' ', 'C', ' ', 'K', ' ', 'V', ' ', 'L', ' ', 'R', ' ', 'K']\n",
      "[['L', 'F', 'I'], ['R', 'W', 'K'], ['V', 'F', 'C'], ['K', 'V', 'C']]\n",
      "42.857142857142854 %\n"
     ]
    }
   ],
   "source": [
    "sequence_one=input(\"Enter the first sequence: \")\n",
    "sequence_two=input(\"Enter the second sequence: \")\n",
    "how_many=int(input(\"How many elements for similarity condition?\"))\n",
    "similarities=[]\n",
    "for i in range(0,how_many):\n",
    "    a=input(\"Enter an element: \")\n",
    "    c=int(input(\"How many elements is it similar to? \"))\n",
    "    similarities.append([])\n",
    "    similarities[i].append(a)\n",
    "    for j in range(0,c):\n",
    "        b=input(\"What is it similar to? \")\n",
    "        similarities[i].append(b)\n",
    "\n",
    "def compare(o,t,s):\n",
    "    print(o)\n",
    "    print(t)\n",
    "    print(s)\n",
    "    #checking if similar\n",
    "    score=0\n",
    "    for i in range(len(o)):\n",
    "        for j in range(len(s)):\n",
    "            if o[i] in s[j] and t[i] in s[j] and o[i] != t[i]:\n",
    "                score+=1\n",
    "    #calculating similarity\n",
    "    similarity= (score*100)/len(o)\n",
    "    return similarity\n",
    "\n",
    "print(compare(list(sequence_one),list(sequence_two),similarities),\"%\")"
   ]
  },
  {
   "cell_type": "code",
   "execution_count": null,
   "id": "c98d7682",
   "metadata": {},
   "outputs": [],
   "source": [
    "A B B L F V C K I W R\n",
    "Enter the second sequence: A B B F V C K V L R K"
   ]
  }
 ],
 "metadata": {
  "kernelspec": {
   "display_name": "Python 3",
   "language": "python",
   "name": "python3"
  },
  "language_info": {
   "codemirror_mode": {
    "name": "ipython",
    "version": 3
   },
   "file_extension": ".py",
   "mimetype": "text/x-python",
   "name": "python",
   "nbconvert_exporter": "python",
   "pygments_lexer": "ipython3",
   "version": "3.8.8"
  }
 },
 "nbformat": 4,
 "nbformat_minor": 5
}
