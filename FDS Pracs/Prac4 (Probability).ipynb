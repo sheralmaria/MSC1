{
 "cells": [
  {
   "cell_type": "code",
   "execution_count": 1,
   "id": "2c36d1a4",
   "metadata": {},
   "outputs": [
    {
     "name": "stdout",
     "output_type": "stream",
     "text": [
      "probability of getting 3 is: 0.16666666666666666\n"
     ]
    }
   ],
   "source": [
    "# probability of getting 3 when a die is rolled\n",
    "ns = 6 #n(S) = {1,2,3,4,5,6}\n",
    "na = 1 #n(A) = {3}\n",
    "pa = na/ns # P(A)\n",
    "print(\"probability of getting 3 is:\", pa)"
   ]
  },
  {
   "cell_type": "code",
   "execution_count": 2,
   "id": "73bd4c61",
   "metadata": {},
   "outputs": [
    {
     "name": "stdout",
     "output_type": "stream",
     "text": [
      "probability of getting atleast one head is: 0.875\n"
     ]
    }
   ],
   "source": [
    "# probability of atleast getting one head when a coin is tossed thrice\n",
    "ns = 8\n",
    "na = 7\n",
    "pa = na/ns\n",
    "print(\"probability of getting atleast one head is:\",pa)"
   ]
  },
  {
   "cell_type": "code",
   "execution_count": 4,
   "id": "6549c506",
   "metadata": {},
   "outputs": [
    {
     "name": "stdout",
     "output_type": "stream",
     "text": [
      "probability of getting not a blue jellybean is: 0.7\n"
     ]
    }
   ],
   "source": [
    "# A glass jar contains 5 red\n",
    "ns = 10\n",
    "na = 7\n",
    "pa = na/ns\n",
    "print(\"probability of getting not a blue jellybean is:\",pa)\n"
   ]
  },
  {
   "cell_type": "markdown",
   "id": "71ff5d84",
   "metadata": {},
   "source": []
  },
  {
   "cell_type": "code",
   "execution_count": 5,
   "id": "1ffac5e7",
   "metadata": {},
   "outputs": [
    {
     "name": "stdout",
     "output_type": "stream",
     "text": [
      "probability that they will be alive after 20 years is: 0.35\n"
     ]
    }
   ],
   "source": [
    "# If the probability thar person A will be alive in 20 years \n",
    "P = 0.7*0.5\n",
    "print(\"probability that they will be alive after 20 years is:\",P)"
   ]
  },
  {
   "cell_type": "code",
   "execution_count": 6,
   "id": "848af6d3",
   "metadata": {},
   "outputs": [],
   "source": [
    "def event_probability(n,s):\n",
    "    return n/s"
   ]
  },
  {
   "cell_type": "code",
   "execution_count": 7,
   "id": "a76ff09a",
   "metadata": {},
   "outputs": [
    {
     "name": "stdout",
     "output_type": "stream",
     "text": [
      "probability of getting a 4 or 5 on the first toss and 1,2, or 3 in second toss is: 0.16666666666666666\n"
     ]
    }
   ],
   "source": [
    "# A fair die is tossed twice. Find prob of getting 4 or \n",
    "pa = event_probability(2,6)\n",
    "pb = event_probability(3,6)\n",
    "P = pa*pb\n",
    "print(\"probability of getting a 4 or 5 on the first toss and 1,2, or 3 in second toss is:\",P)"
   ]
  },
  {
   "cell_type": "code",
   "execution_count": 8,
   "id": "627d3162",
   "metadata": {},
   "outputs": [
    {
     "name": "stdout",
     "output_type": "stream",
     "text": [
      "probability of obtaining whilte black and green in that order is 0.041666666666666664\n"
     ]
    }
   ],
   "source": [
    "# A bag contains\n",
    "pw = event_probability(5,10)\n",
    "pb = event_probability(3,9)\n",
    "pg = event_probability(2,8)\n",
    "print(\"probability of obtaining whilte black and green in that order is\",(pw*pb*pg))\n"
   ]
  },
  {
   "cell_type": "code",
   "execution_count": 10,
   "id": "7f3c933b",
   "metadata": {},
   "outputs": [
    {
     "name": "stdout",
     "output_type": "stream",
     "text": [
      "0.5\n"
     ]
    }
   ],
   "source": [
    "# Calculate probability of drawing heart or club\n",
    "# sample space\n",
    "cards = 52\n",
    "hearts = 13\n",
    "clubs = 13\n",
    "heart_or_club = event_probability(hearts , cards) + event_probability(clubs, cards)\n",
    "print(heart_or_club)"
   ]
  },
  {
   "cell_type": "code",
   "execution_count": 13,
   "id": "c8b8bc94",
   "metadata": {},
   "outputs": [
    {
     "name": "stdout",
     "output_type": "stream",
     "text": [
      "0.23076923076923078\n"
     ]
    }
   ],
   "source": [
    "# Calculate probability of drawing an ace, king or a queen \n",
    "\n",
    "ace = 4\n",
    "king = 4\n",
    "queen = 4\n",
    "ace_king_or_queen = event_probability(ace , cards) + event_probability(king, cards) + event_probability(queen, cards)\n",
    "print(ace_king_or_queen)"
   ]
  },
  {
   "cell_type": "code",
   "execution_count": 14,
   "id": "5b5b9eaf",
   "metadata": {},
   "outputs": [
    {
     "name": "stdout",
     "output_type": "stream",
     "text": [
      "0.3\n"
     ]
    }
   ],
   "source": [
    "# Calculate probability of drawing heart or ace\n",
    "heart = 13\n",
    "ace = 4\n",
    "ace_of_hearts = 1\n",
    "heart_or_ace = event_probability(heart , cards) + event_probability(ace, cards) - event_probability(ace_of_hearts, cards)\n",
    "print(round(heart_or_ace, 1))"
   ]
  },
  {
   "cell_type": "code",
   "execution_count": 16,
   "id": "c42825a8",
   "metadata": {},
   "outputs": [],
   "source": [
    "#Complementary events"
   ]
  },
  {
   "cell_type": "code",
   "execution_count": 17,
   "id": "f3d6db78",
   "metadata": {},
   "outputs": [
    {
     "name": "stdout",
     "output_type": "stream",
     "text": [
      "probability of not getting 5 is: 0.8333333333333334\n"
     ]
    }
   ],
   "source": [
    "#probability of not getting 5 when a fair die is rolled\n",
    "ns = 6\n",
    "na = 1\n",
    "pa = na/ns\n",
    "print(\"probability of not getting 5 is:\",1-pa)"
   ]
  },
  {
   "cell_type": "code",
   "execution_count": 18,
   "id": "92dbacdb",
   "metadata": {},
   "outputs": [],
   "source": [
    "#Conditional probability"
   ]
  },
  {
   "cell_type": "code",
   "execution_count": 19,
   "id": "1e4223ae",
   "metadata": {},
   "outputs": [
    {
     "data": {
      "text/html": [
       "<div>\n",
       "<style scoped>\n",
       "    .dataframe tbody tr th:only-of-type {\n",
       "        vertical-align: middle;\n",
       "    }\n",
       "\n",
       "    .dataframe tbody tr th {\n",
       "        vertical-align: top;\n",
       "    }\n",
       "\n",
       "    .dataframe thead th {\n",
       "        text-align: right;\n",
       "    }\n",
       "</style>\n",
       "<table border=\"1\" class=\"dataframe\">\n",
       "  <thead>\n",
       "    <tr style=\"text-align: right;\">\n",
       "      <th></th>\n",
       "      <th>school</th>\n",
       "      <th>sex</th>\n",
       "      <th>age</th>\n",
       "      <th>address</th>\n",
       "      <th>famsize</th>\n",
       "      <th>Pstatus</th>\n",
       "      <th>Medu</th>\n",
       "      <th>Fedu</th>\n",
       "      <th>Mjob</th>\n",
       "      <th>Fjob</th>\n",
       "      <th>...</th>\n",
       "      <th>famrel</th>\n",
       "      <th>freetime</th>\n",
       "      <th>goout</th>\n",
       "      <th>Dalc</th>\n",
       "      <th>Walc</th>\n",
       "      <th>health</th>\n",
       "      <th>absences</th>\n",
       "      <th>G1</th>\n",
       "      <th>G2</th>\n",
       "      <th>G3</th>\n",
       "    </tr>\n",
       "  </thead>\n",
       "  <tbody>\n",
       "    <tr>\n",
       "      <th>0</th>\n",
       "      <td>GP</td>\n",
       "      <td>F</td>\n",
       "      <td>18</td>\n",
       "      <td>U</td>\n",
       "      <td>GT3</td>\n",
       "      <td>A</td>\n",
       "      <td>4</td>\n",
       "      <td>4</td>\n",
       "      <td>at_home</td>\n",
       "      <td>teacher</td>\n",
       "      <td>...</td>\n",
       "      <td>4</td>\n",
       "      <td>3</td>\n",
       "      <td>4</td>\n",
       "      <td>1</td>\n",
       "      <td>1</td>\n",
       "      <td>3</td>\n",
       "      <td>6</td>\n",
       "      <td>5</td>\n",
       "      <td>6</td>\n",
       "      <td>6</td>\n",
       "    </tr>\n",
       "    <tr>\n",
       "      <th>1</th>\n",
       "      <td>GP</td>\n",
       "      <td>F</td>\n",
       "      <td>17</td>\n",
       "      <td>U</td>\n",
       "      <td>GT3</td>\n",
       "      <td>T</td>\n",
       "      <td>1</td>\n",
       "      <td>1</td>\n",
       "      <td>at_home</td>\n",
       "      <td>other</td>\n",
       "      <td>...</td>\n",
       "      <td>5</td>\n",
       "      <td>3</td>\n",
       "      <td>3</td>\n",
       "      <td>1</td>\n",
       "      <td>1</td>\n",
       "      <td>3</td>\n",
       "      <td>4</td>\n",
       "      <td>5</td>\n",
       "      <td>5</td>\n",
       "      <td>6</td>\n",
       "    </tr>\n",
       "    <tr>\n",
       "      <th>2</th>\n",
       "      <td>GP</td>\n",
       "      <td>F</td>\n",
       "      <td>15</td>\n",
       "      <td>U</td>\n",
       "      <td>LE3</td>\n",
       "      <td>T</td>\n",
       "      <td>1</td>\n",
       "      <td>1</td>\n",
       "      <td>at_home</td>\n",
       "      <td>other</td>\n",
       "      <td>...</td>\n",
       "      <td>4</td>\n",
       "      <td>3</td>\n",
       "      <td>2</td>\n",
       "      <td>2</td>\n",
       "      <td>3</td>\n",
       "      <td>3</td>\n",
       "      <td>10</td>\n",
       "      <td>7</td>\n",
       "      <td>8</td>\n",
       "      <td>10</td>\n",
       "    </tr>\n",
       "  </tbody>\n",
       "</table>\n",
       "<p>3 rows × 33 columns</p>\n",
       "</div>"
      ],
      "text/plain": [
       "  school sex  age address famsize Pstatus  Medu  Fedu     Mjob     Fjob  ...  \\\n",
       "0     GP   F   18       U     GT3       A     4     4  at_home  teacher  ...   \n",
       "1     GP   F   17       U     GT3       T     1     1  at_home    other  ...   \n",
       "2     GP   F   15       U     LE3       T     1     1  at_home    other  ...   \n",
       "\n",
       "  famrel freetime  goout  Dalc  Walc health absences G1 G2  G3  \n",
       "0      4        3      4     1     1      3        6  5  6   6  \n",
       "1      5        3      3     1     1      3        4  5  5   6  \n",
       "2      4        3      2     2     3      3       10  7  8  10  \n",
       "\n",
       "[3 rows x 33 columns]"
      ]
     },
     "execution_count": 19,
     "metadata": {},
     "output_type": "execute_result"
    }
   ],
   "source": [
    "import pandas as pd\n",
    "import numpy as np\n",
    "df = pd.read_csv('C:/Users/shera/Downloads/student-mat (1).csv')\n",
    "df.head(3)"
   ]
  },
  {
   "cell_type": "code",
   "execution_count": 20,
   "id": "be9ccfa0",
   "metadata": {},
   "outputs": [
    {
     "data": {
      "text/plain": [
       "395"
      ]
     },
     "execution_count": 20,
     "metadata": {},
     "output_type": "execute_result"
    }
   ],
   "source": [
    "len(df)"
   ]
  },
  {
   "cell_type": "code",
   "execution_count": 21,
   "id": "e6698936",
   "metadata": {},
   "outputs": [],
   "source": [
    "df['grade_A'] = np.where(df['G3']*5 >= 80, 1, 0)"
   ]
  },
  {
   "cell_type": "code",
   "execution_count": 23,
   "id": "cb4744af",
   "metadata": {},
   "outputs": [],
   "source": [
    "df['high_absenses'] = np.where(df['absences'] >= 10, 1, 0)"
   ]
  },
  {
   "cell_type": "code",
   "execution_count": 24,
   "id": "ec96f269",
   "metadata": {},
   "outputs": [],
   "source": [
    "# add one more column to build a pivot table easier"
   ]
  },
  {
   "cell_type": "code",
   "execution_count": 25,
   "id": "fbc677bc",
   "metadata": {},
   "outputs": [],
   "source": [
    "df['count'] = 1"
   ]
  },
  {
   "cell_type": "code",
   "execution_count": 26,
   "id": "6e762e94",
   "metadata": {},
   "outputs": [
    {
     "data": {
      "text/html": [
       "<div>\n",
       "<style scoped>\n",
       "    .dataframe tbody tr th:only-of-type {\n",
       "        vertical-align: middle;\n",
       "    }\n",
       "\n",
       "    .dataframe tbody tr th {\n",
       "        vertical-align: top;\n",
       "    }\n",
       "\n",
       "    .dataframe thead th {\n",
       "        text-align: right;\n",
       "    }\n",
       "</style>\n",
       "<table border=\"1\" class=\"dataframe\">\n",
       "  <thead>\n",
       "    <tr style=\"text-align: right;\">\n",
       "      <th></th>\n",
       "      <th>grade_A</th>\n",
       "      <th>high_absenses</th>\n",
       "      <th>count</th>\n",
       "    </tr>\n",
       "  </thead>\n",
       "  <tbody>\n",
       "    <tr>\n",
       "      <th>0</th>\n",
       "      <td>0</td>\n",
       "      <td>0</td>\n",
       "      <td>1</td>\n",
       "    </tr>\n",
       "    <tr>\n",
       "      <th>1</th>\n",
       "      <td>0</td>\n",
       "      <td>0</td>\n",
       "      <td>1</td>\n",
       "    </tr>\n",
       "    <tr>\n",
       "      <th>2</th>\n",
       "      <td>0</td>\n",
       "      <td>1</td>\n",
       "      <td>1</td>\n",
       "    </tr>\n",
       "    <tr>\n",
       "      <th>3</th>\n",
       "      <td>0</td>\n",
       "      <td>0</td>\n",
       "      <td>1</td>\n",
       "    </tr>\n",
       "    <tr>\n",
       "      <th>4</th>\n",
       "      <td>0</td>\n",
       "      <td>0</td>\n",
       "      <td>1</td>\n",
       "    </tr>\n",
       "  </tbody>\n",
       "</table>\n",
       "</div>"
      ],
      "text/plain": [
       "   grade_A  high_absenses  count\n",
       "0        0              0      1\n",
       "1        0              0      1\n",
       "2        0              1      1\n",
       "3        0              0      1\n",
       "4        0              0      1"
      ]
     },
     "execution_count": 26,
     "metadata": {},
     "output_type": "execute_result"
    }
   ],
   "source": [
    "df = df[['grade_A','high_absenses','count']]\n",
    "df.head()"
   ]
  },
  {
   "cell_type": "code",
   "execution_count": 27,
   "id": "de3fb5a0",
   "metadata": {},
   "outputs": [],
   "source": [
    "final=pd.pivot_table(df,values='count',index=['grade_A'],columns=['high_absenses'],aggfunc=np.size,fill_value=0)"
   ]
  },
  {
   "cell_type": "code",
   "execution_count": 28,
   "id": "3cb6268e",
   "metadata": {},
   "outputs": [
    {
     "name": "stdout",
     "output_type": "stream",
     "text": [
      "high_absenses    0   1\n",
      "grade_A               \n",
      "0              277  78\n",
      "1               35   5\n"
     ]
    }
   ],
   "source": [
    "print(final)"
   ]
  },
  {
   "cell_type": "code",
   "execution_count": 29,
   "id": "dc96f65b",
   "metadata": {},
   "outputs": [],
   "source": [
    "#P(A) is the prob of grade of 80 % or greater"
   ]
  },
  {
   "cell_type": "markdown",
   "id": "a08b80ab",
   "metadata": {},
   "source": [
    "#P(A) = (35 + 5) / (35 + 5 + 277 + 78)=0.10126582278481013\n",
    "#\n",
    "\n"
   ]
  },
  {
   "cell_type": "code",
   "execution_count": null,
   "id": "a902207b",
   "metadata": {},
   "outputs": [],
   "source": [
    "P(A) is the prob of grade of 80 % or greater\n",
    "P(A) = (35 + 5) / (35 + 5 + 277 + 78)=0.10126582278481013\n",
    "P(B) is the prob of missing 10 or more classes\n",
    "P(B) = (78 + 5)/(35 + 5 + 277 + 78)=\n",
    "P(A or B) = 5 / (35 + 5 + 277 + 78) =\n",
    " And per formula , P(A/B) = P(A or B) / P(B), put it together\n",
    "P(A/B) =  /\n",
    "=0.06\n"
   ]
  },
  {
   "cell_type": "code",
   "execution_count": null,
   "id": "a32eabd5",
   "metadata": {},
   "outputs": [],
   "source": []
  }
 ],
 "metadata": {
  "kernelspec": {
   "display_name": "Python 3",
   "language": "python",
   "name": "python3"
  },
  "language_info": {
   "codemirror_mode": {
    "name": "ipython",
    "version": 3
   },
   "file_extension": ".py",
   "mimetype": "text/x-python",
   "name": "python",
   "nbconvert_exporter": "python",
   "pygments_lexer": "ipython3",
   "version": "3.8.8"
  }
 },
 "nbformat": 4,
 "nbformat_minor": 5
}
